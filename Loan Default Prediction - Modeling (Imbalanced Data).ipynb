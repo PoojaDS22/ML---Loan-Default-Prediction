{
 "cells": [
  {
   "cell_type": "markdown",
   "id": "bfeeb902",
   "metadata": {},
   "source": [
    "# Loan Default Project\n",
    "\n",
    "### Problem Statement: \n",
    "#### Machine Learning algorithms in predicting which customers will default on their loans based on their financial information and historical data."
   ]
  },
  {
   "cell_type": "markdown",
   "id": "1d992951",
   "metadata": {},
   "source": [
    "###  Modeling"
   ]
  },
  {
   "cell_type": "markdown",
   "id": "b740a78f",
   "metadata": {},
   "source": [
    "### 1. Import the Loan Default Data"
   ]
  },
  {
   "cell_type": "code",
   "execution_count": 1,
   "id": "eeb5ec8a",
   "metadata": {},
   "outputs": [],
   "source": [
    "#import Library\n",
    "\n",
    "import pandas as pd\n",
    "import numpy as np\n",
    "import seaborn as sns\n",
    "import matplotlib.pyplot as plt"
   ]
  },
  {
   "cell_type": "code",
   "execution_count": 2,
   "id": "0408760e",
   "metadata": {},
   "outputs": [],
   "source": [
    "#import the loan default dataset\n",
    "loan_Default_Data = pd.read_csv(r'C:/Users/pooja/OneDrive/Desktop/ML_Loan Default Prediction/Loan_Default_FE_Data.csv').drop('Unnamed: 0',axis='columns')\n",
    "#loan_Default_Data"
   ]
  },
  {
   "cell_type": "code",
   "execution_count": 3,
   "id": "56a0d59d",
   "metadata": {},
   "outputs": [],
   "source": [
    "#let's check howmany and what colums we have in our table\n",
    "#loan_Default_Data.info()"
   ]
  },
  {
   "cell_type": "markdown",
   "id": "f411e534",
   "metadata": {},
   "source": [
    "### 2. Set X and y labels for the Model"
   ]
  },
  {
   "cell_type": "code",
   "execution_count": 4,
   "id": "4aa29b55",
   "metadata": {},
   "outputs": [],
   "source": [
    "#### Independent and Dependent Features\n",
    "X=loan_Default_Data.drop(\"Loan_Status\",axis=1)\n",
    "y=loan_Default_Data.Loan_Status"
   ]
  },
  {
   "cell_type": "code",
   "execution_count": 5,
   "id": "e78eeecd",
   "metadata": {},
   "outputs": [
    {
     "data": {
      "text/plain": [
       "0.0    606\n",
       "1.0     76\n",
       "Name: Loan_Status, dtype: int64"
      ]
     },
     "execution_count": 5,
     "metadata": {},
     "output_type": "execute_result"
    }
   ],
   "source": [
    "loan_Default_Data.iloc[: , -1].value_counts()"
   ]
  },
  {
   "cell_type": "markdown",
   "id": "70aa8705",
   "metadata": {},
   "source": [
    "### 3. Train a ML model to predict customers who are more likely to default on loans"
   ]
  },
  {
   "cell_type": "code",
   "execution_count": 6,
   "id": "845fd35e",
   "metadata": {},
   "outputs": [],
   "source": [
    "#import Library\n",
    "from sklearn.model_selection import train_test_split , cross_val_score,KFold\n",
    "from sklearn.ensemble import RandomForestClassifier\n",
    "from sklearn.linear_model import LogisticRegression\n",
    "from sklearn.tree import DecisionTreeClassifier\n",
    "from sklearn.metrics import classification_report, plot_confusion_matrix,confusion_matrix,roc_auc_score,accuracy_score\n",
    "from sklearn.metrics import accuracy_score , f1_score,roc_auc_score\n",
    "from sklearn.model_selection import GridSearchCV\n",
    "import numpy as np"
   ]
  },
  {
   "cell_type": "code",
   "execution_count": 7,
   "id": "044a2ffc",
   "metadata": {},
   "outputs": [],
   "source": [
    "X_train, X_test, y_train, y_test = train_test_split(X, y, test_size=0.30, random_state=42)"
   ]
  },
  {
   "cell_type": "markdown",
   "id": "40cc21b2",
   "metadata": {},
   "source": [
    "### 4. Evaluate base model performance with Random Forest , Decision Tree and XGBoost Classifier"
   ]
  },
  {
   "cell_type": "markdown",
   "id": "27d1ba59",
   "metadata": {},
   "source": [
    "#### RandomForest Model"
   ]
  },
  {
   "cell_type": "code",
   "execution_count": 8,
   "id": "ecae3d5e",
   "metadata": {},
   "outputs": [
    {
     "name": "stdout",
     "output_type": "stream",
     "text": [
      "              precision    recall  f1-score   support\n",
      "\n",
      "         0.0       0.92      0.98      0.95       185\n",
      "         1.0       0.57      0.20      0.30        20\n",
      "\n",
      "    accuracy                           0.91       205\n",
      "   macro avg       0.75      0.59      0.62       205\n",
      "weighted avg       0.89      0.91      0.89       205\n",
      "\n",
      "[[182   3]\n",
      " [ 16   4]]\n",
      "0.9073170731707317\n",
      "0.5918918918918918\n"
     ]
    }
   ],
   "source": [
    "rfc = RandomForestClassifier(random_state=42)\n",
    "rfc.fit(X_train,y_train)\n",
    "rfy_pred = rfc.predict(X_test)\n",
    "print(classification_report(y_test,rfy_pred))\n",
    "print(confusion_matrix(y_test,rfy_pred))\n",
    "print(accuracy_score(y_test,rfy_pred))\n",
    "print(roc_auc_score(y_test,rfy_pred))"
   ]
  },
  {
   "cell_type": "markdown",
   "id": "5953e509",
   "metadata": {},
   "source": [
    "#### DecisionTree Model"
   ]
  },
  {
   "cell_type": "code",
   "execution_count": 9,
   "id": "d10e4a4d",
   "metadata": {},
   "outputs": [
    {
     "name": "stdout",
     "output_type": "stream",
     "text": [
      "              precision    recall  f1-score   support\n",
      "\n",
      "         0.0       0.93      0.90      0.91       185\n",
      "         1.0       0.30      0.40      0.34        20\n",
      "\n",
      "    accuracy                           0.85       205\n",
      "   macro avg       0.61      0.65      0.63       205\n",
      "weighted avg       0.87      0.85      0.86       205\n",
      "\n",
      "[[166  19]\n",
      " [ 12   8]]\n",
      "0.848780487804878\n",
      "0.6486486486486486\n"
     ]
    }
   ],
   "source": [
    "from sklearn.tree import DecisionTreeClassifier\n",
    "dt = DecisionTreeClassifier(random_state=10)\n",
    "dt.fit(X_train,y_train)\n",
    "dfy_pred = dt.predict(X_test)\n",
    "print(classification_report(y_test,dfy_pred))\n",
    "print(confusion_matrix(y_test,dfy_pred))\n",
    "print(accuracy_score(y_test,dfy_pred))\n",
    "print(roc_auc_score(y_test,dfy_pred))"
   ]
  },
  {
   "cell_type": "markdown",
   "id": "88d30b7f",
   "metadata": {},
   "source": [
    "#### XGBoost Classifier"
   ]
  },
  {
   "cell_type": "code",
   "execution_count": 10,
   "id": "9b4df9f2",
   "metadata": {},
   "outputs": [
    {
     "name": "stderr",
     "output_type": "stream",
     "text": [
      "C:\\Users\\pooja\\anaconda3\\lib\\site-packages\\xgboost\\compat.py:36: FutureWarning: pandas.Int64Index is deprecated and will be removed from pandas in a future version. Use pandas.Index with the appropriate dtype instead.\n",
      "  from pandas import MultiIndex, Int64Index\n"
     ]
    },
    {
     "data": {
      "text/plain": [
       "XGBClassifier(base_score=0.5, booster='gbtree', colsample_bylevel=1,\n",
       "              colsample_bynode=1, colsample_bytree=1, enable_categorical=False,\n",
       "              eval_metric='logloss', gamma=0, gpu_id=-1, importance_type=None,\n",
       "              interaction_constraints='', learning_rate=0.1, max_delta_step=0,\n",
       "              max_depth=3, min_child_weight=1, missing=nan,\n",
       "              monotone_constraints='()', n_estimators=150, n_jobs=8,\n",
       "              num_parallel_tree=1, predictor='auto', random_state=42,\n",
       "              reg_alpha=0, reg_lambda=1, scale_pos_weight=1, seed=42,\n",
       "              subsample=1, tree_method='exact', use_label_encoder=False,\n",
       "              validate_parameters=1, ...)"
      ]
     },
     "execution_count": 10,
     "metadata": {},
     "output_type": "execute_result"
    }
   ],
   "source": [
    "from xgboost.sklearn import XGBClassifier\n",
    "import xgboost as xgb\n",
    "\n",
    "#ignore wornings\n",
    "import warnings\n",
    "warnings.simplefilter(action='ignore', category=FutureWarning)\n",
    "\n",
    "#ignore Special characters\n",
    "import re\n",
    "regex = re.compile(r\"\\[|\\]|<\", re.IGNORECASE)\n",
    "X_train.columns = [regex.sub(\"_\", col) if any(x in str(col) for x in set(('[', ']', '<'))) else col for col in X_train.columns.values]\n",
    "\n",
    "xg_cl=xgb.XGBClassifier(objective = \"binary:logistic\",eval_metric = \"logloss\", learning_rate = 0.1, max_depth =3,seed =42,n_estimators=150,use_label_encoder =False)\n",
    "xg_cl.fit(X_train,y_train,verbose=True)"
   ]
  },
  {
   "cell_type": "code",
   "execution_count": 11,
   "id": "14660a6c",
   "metadata": {},
   "outputs": [
    {
     "name": "stdout",
     "output_type": "stream",
     "text": [
      "0.5864864864864865\n",
      "0.8975609756097561\n"
     ]
    }
   ],
   "source": [
    "xgy_pred = xg_cl.predict(X_test)\n",
    "print(roc_auc_score(y_test,xgy_pred))\n",
    "print(accuracy_score(y_test,xgy_pred))"
   ]
  },
  {
   "cell_type": "markdown",
   "id": "ece5c55d",
   "metadata": {},
   "source": [
    "#### Chaeck Roc-Auc Curve for all 3 models"
   ]
  },
  {
   "cell_type": "code",
   "execution_count": 12,
   "id": "3831c549",
   "metadata": {
    "scrolled": false
   },
   "outputs": [
    {
     "data": {
      "image/png": "[encoded data removed]",
      "text/plain": [
       "<Figure size 360x360 with 1 Axes>"
      ]
     },
     "metadata": {
      "needs_background": "light"
     },
     "output_type": "display_data"
    }
   ],
   "source": [
    "#define metrics\n",
    "from sklearn import metrics\n",
    "from sklearn.metrics import roc_curve,auc\n",
    "\n",
    "#random forest\n",
    "rfpr, rtpr, thresold = roc_curve(y_test,rfy_pred)\n",
    "auc_logistic = auc(rfpr,rtpr)\n",
    "\n",
    "#decision\n",
    "dfpr, dtpr, thresold = roc_curve(y_test,dfy_pred)\n",
    "auc_logistic1 = auc(dfpr,dtpr)\n",
    "\n",
    "#Xgboost\n",
    "xfpr, xtpr, thresold = roc_curve(y_test,xgy_pred)\n",
    "auc_logistic3 = auc(xfpr,xtpr)\n",
    "\n",
    "\n",
    "#create ROC curve\n",
    "plt.figure(figsize = (5,5))\n",
    "plt.plot(rfpr,rtpr,linestyle = \"-\",color='orange',label=\"RF=\"+str(auc_logistic))\n",
    "plt.plot(dfpr,dtpr,linestyle = \":\" ,color='blue',label=\"DT=\"+str(auc_logistic1))\n",
    "plt.plot(xfpr,xtpr,linestyle = \"-.\" ,color='red',label=\"XB=\"+str(auc_logistic3))\n",
    "\n",
    "plt.ylabel('True Positive Rate')\n",
    "plt.xlabel('False Positive Rate')\n",
    "plt.legend(loc=3)\n",
    "plt.show()"
   ]
  },
  {
   "cell_type": "markdown",
   "id": "6b4302ca",
   "metadata": {},
   "source": [
    "### 5. Hyperpaqrameter Tuning in Random Forest and Xgboost"
   ]
  },
  {
   "cell_type": "markdown",
   "id": "8948d057",
   "metadata": {},
   "source": [
    "#### Hyperpaqrameter Tuning in Random Forest"
   ]
  },
  {
   "cell_type": "code",
   "execution_count": 13,
   "id": "3f992215",
   "metadata": {},
   "outputs": [
    {
     "name": "stdout",
     "output_type": "stream",
     "text": [
      "{'n_estimators': [2, 51, 100], 'max_features': ['auto', 'sqrt', 'log2'], 'max_depth': [2, 10], 'min_samples_split': [4, 2, 6, 3], 'min_samples_leaf': [1, 2, 4, 6, 8], 'criterion': ['entropy', 'gini']}\n"
     ]
    }
   ],
   "source": [
    "# Random Search CV - random forest\n",
    "from sklearn.model_selection import RandomizedSearchCV\n",
    "n_estimators = [int(x) for x in np.linspace(start=2,stop=100,num=3)]\n",
    "max_features = ['auto','sqrt','log2']\n",
    "max_depth = [int(x) for x in np.linspace(2,10,2)]\n",
    "min_samples_split = [4,2,6,3]\n",
    "min_samples_leaf = [1,2,4,6,8]\n",
    "\n",
    "random_grid = {'n_estimators': n_estimators,\n",
    "              'max_features': max_features,\n",
    "              'max_depth': max_depth,\n",
    "              'min_samples_split':min_samples_split,\n",
    "              'min_samples_leaf':min_samples_leaf,\n",
    "              'criterion':['entropy','gini']}\n",
    "print(random_grid)"
   ]
  },
  {
   "cell_type": "code",
   "execution_count": 14,
   "id": "aca04ed4",
   "metadata": {},
   "outputs": [
    {
     "name": "stdout",
     "output_type": "stream",
     "text": [
      "Fitting 3 folds for each of 100 candidates, totalling 300 fits\n",
      "[[184   1]\n",
      " [ 18   2]]\n",
      "0.9073170731707317\n",
      "              precision    recall  f1-score   support\n",
      "\n",
      "         0.0       0.91      0.99      0.95       185\n",
      "         1.0       0.67      0.10      0.17        20\n",
      "\n",
      "    accuracy                           0.91       205\n",
      "   macro avg       0.79      0.55      0.56       205\n",
      "weighted avg       0.89      0.91      0.88       205\n",
      "\n",
      "0.5472972972972974\n"
     ]
    }
   ],
   "source": [
    "rft = RandomForestClassifier()\n",
    "rf = RandomizedSearchCV(estimator=rft,param_distributions=random_grid,n_iter=100,cv=3,verbose=2,random_state=100,n_jobs=-1)\n",
    "rf.fit(X_train,y_train)\n",
    "best_random_grid=rf.best_estimator_\n",
    "\n",
    "from sklearn.metrics import accuracy_score\n",
    "\n",
    "y_pred = best_random_grid.predict(X_test)\n",
    "\n",
    "print(confusion_matrix(y_test,y_pred))\n",
    "print(accuracy_score(y_test,y_pred))\n",
    "print(classification_report(y_test,y_pred))\n",
    "print(roc_auc_score(y_test,y_pred))\n"
   ]
  },
  {
   "cell_type": "code",
   "execution_count": 23,
   "id": "2a50e4d0",
   "metadata": {},
   "outputs": [
    {
     "name": "stdout",
     "output_type": "stream",
     "text": [
      "{'criterion': ['entropy'], 'max_depth': [10], 'max_features': ['log2'], 'min_samples_leaf': [2, 4, 3], 'min_samples_split': [5, 8, 7], 'n_estimators': [100, 200, 300]}\n"
     ]
    }
   ],
   "source": [
    "#Grid Search Cv - random forest\n",
    "\n",
    "from sklearn.model_selection import GridSearchCV\n",
    "param_grid={\n",
    "    'criterion':[rf.best_params_['criterion']],\n",
    "    'max_depth':[rf.best_params_['max_depth']],\n",
    "    'max_features':[rf.best_params_['max_features']],\n",
    "    'min_samples_leaf':[rf.best_params_['min_samples_leaf'],\n",
    "                       rf.best_params_['min_samples_leaf']+2,\n",
    "                       rf.best_params_['min_samples_leaf']+1],\n",
    "    'min_samples_split':[rf.best_params_['min_samples_split']-1,\n",
    "                        rf.best_params_['min_samples_split']+2,\n",
    "                        rf.best_params_['min_samples_split']+1],\n",
    "    'n_estimators':[rf.best_params_['n_estimators'],\n",
    "                   rf.best_params_['n_estimators']+100,\n",
    "                   rf.best_params_['n_estimators']+200]  \n",
    "}\n",
    "    \n",
    "print(param_grid)"
   ]
  },
  {
   "cell_type": "code",
   "execution_count": 24,
   "id": "a093da11",
   "metadata": {},
   "outputs": [
    {
     "name": "stdout",
     "output_type": "stream",
     "text": [
      "Fitting 10 folds for each of 27 candidates, totalling 270 fits\n"
     ]
    },
    {
     "data": {
      "text/plain": [
       "GridSearchCV(cv=10, error_score='raise', estimator=RandomForestClassifier(),\n",
       "             n_jobs=-1,\n",
       "             param_grid={'criterion': ['entropy'], 'max_depth': [10],\n",
       "                         'max_features': ['log2'],\n",
       "                         'min_samples_leaf': [2, 4, 3],\n",
       "                         'min_samples_split': [5, 8, 7],\n",
       "                         'n_estimators': [100, 200, 300]},\n",
       "             verbose=2)"
      ]
     },
     "execution_count": 24,
     "metadata": {},
     "output_type": "execute_result"
    }
   ],
   "source": [
    "rft1 = RandomForestClassifier()\n",
    "grid_search = GridSearchCV(estimator=rft1,param_grid=param_grid,cv=10,verbose=2,n_jobs=-1,error_score='raise')\n",
    "grid_search.fit(X_train,y_train)"
   ]
  },
  {
   "cell_type": "code",
   "execution_count": 25,
   "id": "ade3af64",
   "metadata": {},
   "outputs": [
    {
     "name": "stdout",
     "output_type": "stream",
     "text": [
      "[[185   0]\n",
      " [ 20   0]]\n",
      "0.9024390243902439\n",
      "0.0\n",
      "0.5\n"
     ]
    }
   ],
   "source": [
    "best_grid=grid_search.best_estimator_\n",
    "from sklearn.metrics import accuracy_score , f1_score\n",
    "y_pred = best_grid.predict(X_test)\n",
    "print(confusion_matrix(y_test,y_pred))\n",
    "print(accuracy_score(y_test,y_pred))\n",
    "print(f1_score(y_test,y_pred))\n",
    "print(roc_auc_score(y_test,y_pred))"
   ]
  },
  {
   "cell_type": "markdown",
   "id": "ae9a17f7",
   "metadata": {},
   "source": [
    "#### Hyperpaqrameter Tuning in Xgboost"
   ]
  },
  {
   "cell_type": "code",
   "execution_count": 28,
   "id": "136044c6",
   "metadata": {},
   "outputs": [
    {
     "data": {
      "text/plain": [
       "XGBClassifier(base_score=0.5, booster='gbtree', colsample_bylevel=1,\n",
       "              colsample_bynode=1, colsample_bytree=1, enable_categorical=False,\n",
       "              eval_metric='logloss', gamma=0, gpu_id=-1, importance_type=None,\n",
       "              interaction_constraints='', learning_rate=0.1, max_delta_step=0,\n",
       "              max_depth=3, min_child_weight=1, missing=nan,\n",
       "              monotone_constraints='()', n_estimators=150, n_jobs=8,\n",
       "              num_parallel_tree=1, predictor='auto', random_state=42,\n",
       "              reg_alpha=0, reg_lambda=1, scale_pos_weight=1, seed=42,\n",
       "              subsample=1, tree_method='exact', use_label_encoder=False,\n",
       "              validate_parameters=1, ...)"
      ]
     },
     "execution_count": 28,
     "metadata": {},
     "output_type": "execute_result"
    }
   ],
   "source": [
    "from xgboost.sklearn import XGBClassifier\n",
    "import xgboost as xgb\n",
    "\n",
    "#ignore wornings\n",
    "import warnings\n",
    "warnings.simplefilter(action='ignore', category=FutureWarning)\n",
    "\n",
    "import re\n",
    "regex = re.compile(r\"\\[|\\]|<\", re.IGNORECASE)\n",
    "X_train.columns = [regex.sub(\"_\", col) if any(x in str(col) for x in set(('[', ']', '<'))) else col for col in X_train.columns.values]\n",
    "\n",
    "xg_cl=xgb.XGBClassifier(objective = \"binary:logistic\",eval_metric = \"logloss\",learning_rate = 0.1, max_depth =3,seed =42,n_estimators=150,use_label_encoder =False)\n",
    "xg_cl.fit(X_train,y_train,verbose=True)"
   ]
  },
  {
   "cell_type": "code",
   "execution_count": 29,
   "id": "53054fd1",
   "metadata": {},
   "outputs": [],
   "source": [
    "parameters = {\n",
    "    'max_depth': range(2,10,1),\n",
    "    'n_estimators': range(2,120,3),\n",
    "    'learning_rate':[0.1,0.01,0.05]\n",
    "}"
   ]
  },
  {
   "cell_type": "code",
   "execution_count": 30,
   "id": "7e66e7fb",
   "metadata": {},
   "outputs": [
    {
     "name": "stdout",
     "output_type": "stream",
     "text": [
      "Fitting 10 folds for each of 960 candidates, totalling 9600 fits\n"
     ]
    },
    {
     "data": {
      "text/plain": [
       "GridSearchCV(cv=10,\n",
       "             estimator=XGBClassifier(base_score=0.5, booster='gbtree',\n",
       "                                     colsample_bylevel=1, colsample_bynode=1,\n",
       "                                     colsample_bytree=1,\n",
       "                                     enable_categorical=False,\n",
       "                                     eval_metric='logloss', gamma=0, gpu_id=-1,\n",
       "                                     importance_type=None,\n",
       "                                     interaction_constraints='',\n",
       "                                     learning_rate=0.1, max_delta_step=0,\n",
       "                                     max_depth=3, min_child_weight=1,\n",
       "                                     missing=nan, monotone_constraints='()',\n",
       "                                     n_estimators=150, n_jobs=8,\n",
       "                                     num_parallel_tree=1, predictor='auto',\n",
       "                                     random_state=42, reg_alpha=0, reg_lambda=1,\n",
       "                                     scale_pos_weight=1, seed=42, subsample=1,\n",
       "                                     tree_method='exact',\n",
       "                                     use_label_encoder=False,\n",
       "                                     validate_parameters=1, ...),\n",
       "             n_jobs=10,\n",
       "             param_grid={'learning_rate': [0.1, 0.01, 0.05],\n",
       "                         'max_depth': range(2, 10),\n",
       "                         'n_estimators': range(2, 120, 3)},\n",
       "             verbose=True)"
      ]
     },
     "execution_count": 30,
     "metadata": {},
     "output_type": "execute_result"
    }
   ],
   "source": [
    "from sklearn.metrics import accuracy_score , f1_score,roc_auc_score\n",
    "from sklearn.model_selection import GridSearchCV\n",
    "grid_search1 = GridSearchCV(estimator=xg_cl,param_grid=parameters,cv=10,verbose=True,n_jobs=10)\n",
    "grid_search1.fit(X_train,y_train)"
   ]
  },
  {
   "cell_type": "code",
   "execution_count": 31,
   "id": "c9c9c84f",
   "metadata": {},
   "outputs": [
    {
     "name": "stdout",
     "output_type": "stream",
     "text": [
      "[[179   6]\n",
      " [ 18   2]]\n",
      "0.8829268292682927\n",
      "0.14285714285714288\n",
      "0.5337837837837838\n"
     ]
    }
   ],
   "source": [
    "best_grid1=grid_search1.best_estimator_\n",
    "y_pred = best_grid1.predict(X_test)\n",
    "print(confusion_matrix(y_test,y_pred))\n",
    "print(accuracy_score(y_test,y_pred))\n",
    "print(f1_score(y_test,y_pred))\n",
    "print(roc_auc_score(y_test,y_pred))"
   ]
  },
  {
   "cell_type": "markdown",
   "id": "1aa7c287",
   "metadata": {},
   "source": [
    "#### Sugessions:\n",
    "\n",
    "#### There are possibilites that we can imporve this score after balancing the dataset "
   ]
  },
  {
   "cell_type": "code",
   "execution_count": null,
   "id": "e3313869",
   "metadata": {},
   "outputs": [],
   "source": []
  }
 ],
 "metadata": {
  "kernelspec": {
   "display_name": "Python 3 (ipykernel)",
   "language": "python",
   "name": "python3"
  },
  "language_info": {
   "codemirror_mode": {
    "name": "ipython",
    "version": 3
   },
   "file_extension": ".py",
   "mimetype": "text/x-python",
   "name": "python",
   "nbconvert_exporter": "python",
   "pygments_lexer": "ipython3",
   "version": "3.9.7"
  }
 },
 "nbformat": 4,
 "nbformat_minor": 5
}
